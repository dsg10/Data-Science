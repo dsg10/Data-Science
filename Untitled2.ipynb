{
 "cells": [
  {
   "cell_type": "code",
   "execution_count": null,
   "id": "3a05216e-4de4-4f88-b41d-b4759c4954a4",
   "metadata": {},
   "outputs": [],
   "source": [
    "def replace_chars(text):"
   ]
  },
  {
   "cell_type": "code",
   "execution_count": null,
   "id": "96335265-1c7d-4e60-88d6-d96d479d525a",
   "metadata": {},
   "outputs": [],
   "source": [
    "return text.replace(\" \",\":\").replace(\",\",\"::').replace(\".\",\":\")"
   ]
  },
  {
   "cell_type": "code",
   "execution_count": null,
   "id": "5c4ca4b3-9b4d-4760-ae3a-d0be267aeb14",
   "metadata": {},
   "outputs": [],
   "source": [
    "text = 'python exercises,php exercises.'"
   ]
  },
  {
   "cell_type": "code",
   "execution_count": null,
   "id": "1b7b78dd-50d3-4327-8957-35fb5946c15a",
   "metadata": {},
   "outputs": [],
   "source": [
    "print(replace_chars(text))"
   ]
  }
 ],
 "metadata": {
  "kernelspec": {
   "display_name": "Python 3 (ipykernel)",
   "language": "python",
   "name": "python3"
  },
  "language_info": {
   "name": ""
  }
 },
 "nbformat": 4,
 "nbformat_minor": 5
}
